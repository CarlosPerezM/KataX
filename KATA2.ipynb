{
 "cells": [
  {
   "cell_type": "code",
   "execution_count": 1,
   "metadata": {},
   "outputs": [
    {
     "name": "stdout",
     "output_type": "stream",
     "text": [
      "argon2-cffi==21.3.0Note: you may need to restart the kernel to use updated packages.\n",
      "argon2-cffi-bindings==21.2.0\n",
      "asttokens==2.0.5\n",
      "attrs==21.4.0\n",
      "backcall==0.2.0\n",
      "black==22.1.0\n",
      "bleach==4.1.0\n",
      "cffi==1.15.0\n",
      "click==8.0.4\n",
      "colorama==0.4.4\n",
      "cycler==0.11.0\n",
      "debugpy==1.5.1\n",
      "decorator==5.1.1\n",
      "defusedxml==0.7.1\n",
      "entrypoints==0.4\n",
      "executing==0.8.2\n",
      "fonttools==4.29.1\n",
      "importlib-resources==5.4.0\n",
      "ipykernel==6.9.1\n",
      "ipython==8.0.1\n",
      "ipython-genutils==0.2.0\n",
      "ipywidgets==7.6.5\n",
      "jedi==0.18.1\n",
      "Jinja2==3.0.3\n",
      "jsonschema==4.4.0\n",
      "jupyter-client==7.1.2\n",
      "jupyter-core==4.9.2\n",
      "jupyterlab-pygments==0.1.2\n",
      "jupyterlab-widgets==1.0.2\n",
      "kiwisolver==1.3.2\n",
      "MarkupSafe==2.1.0\n",
      "matplotlib==3.5.1\n",
      "matplotlib-inline==0.1.3\n",
      "mistune==0.8.4\n",
      "mypy-extensions==0.4.3\n",
      "nbclient==0.5.11\n",
      "nbconvert==6.4.2\n",
      "nbformat==5.1.3\n",
      "nest-asyncio==1.5.4\n",
      "notebook==6.4.8\n",
      "numpy==1.22.2\n",
      "packaging==21.3\n",
      "pandocfilters==1.5.0\n",
      "parso==0.8.3\n",
      "pathspec==0.9.0\n",
      "pickleshare==0.7.5\n",
      "Pillow==9.0.1\n",
      "platformdirs==2.5.1\n",
      "prometheus-client==0.13.1\n",
      "prompt-toolkit==3.0.28\n",
      "pure-eval==0.2.2\n",
      "pycparser==2.21\n",
      "Pygments==2.11.2\n",
      "pyparsing==3.0.7\n",
      "pyrsistent==0.18.1\n",
      "python-dateutil==2.8.2\n",
      "pywin32==303\n",
      "pywinpty==0.5.7\n",
      "pyzmq==22.3.0\n",
      "Send2Trash==1.8.0\n",
      "six==1.16.0\n",
      "stack-data==0.2.0\n",
      "terminado==0.9.5\n",
      "testpath==0.5.0\n",
      "tomli==2.0.1\n",
      "tornado==6.1\n",
      "traitlets==5.1.1\n",
      "typing-extensions==4.1.1\n",
      "wcwidth==0.2.5\n",
      "webencodings==0.5.1\n",
      "widgetsnbextension==3.5.2\n",
      "zipp==3.7.0\n",
      "\n"
     ]
    }
   ],
   "source": [
    "pip freeze\n"
   ]
  },
  {
   "cell_type": "code",
   "execution_count": 1,
   "metadata": {},
   "outputs": [
    {
     "name": "stdout",
     "output_type": "stream",
     "text": [
      "Requirement already satisfied: python-dateutil in c:\\users\\charlie\\appdata\\roaming\\python\\python38\\site-packages (2.8.2)\n",
      "Requirement already satisfied: six>=1.5 in c:\\users\\charlie\\appdata\\roaming\\python\\python38\\site-packages (from python-dateutil) (1.16.0)\n",
      "Note: you may need to restart the kernel to use updated packages.\n"
     ]
    },
    {
     "name": "stderr",
     "output_type": "stream",
     "text": [
      "WARNING: You are using pip version 21.1.1; however, version 22.0.3 is available.\n",
      "You should consider upgrading via the 'C:\\Users\\Charlie\\AppData\\Local\\Programs\\Python\\Python38-32\\python.exe -m pip install --upgrade pip' command.\n"
     ]
    }
   ],
   "source": [
    "pip install python-dateutil\n"
   ]
  },
  {
   "cell_type": "code",
   "execution_count": 1,
   "metadata": {},
   "outputs": [
    {
     "name": "stdout",
     "output_type": "stream",
     "text": [
      "argon2-cffi==21.3.0\n",
      "argon2-cffi-bindings==21.2.0\n",
      "asttokens==2.0.5\n",
      "attrs==21.4.0\n",
      "backcall==0.2.0\n",
      "black==22.1.0\n",
      "bleach==4.1.0\n",
      "cffi==1.15.0\n",
      "click==8.0.4\n",
      "colorama==0.4.4\n",
      "cycler==0.11.0\n",
      "debugpy==1.5.1\n",
      "decorator==5.1.1\n",
      "defusedxml==0.7.1\n",
      "entrypoints==0.4\n",
      "executing==0.8.2\n",
      "fonttools==4.29.1\n",
      "importlib-resources==5.4.0\n",
      "ipykernel==6.9.1\n",
      "ipython==8.0.1\n",
      "ipython-genutils==0.2.0\n",
      "ipywidgets==7.6.5\n",
      "jedi==0.18.1\n",
      "Jinja2==3.0.3\n",
      "jsonschema==4.4.0\n",
      "jupyter-client==7.1.2\n",
      "jupyter-core==4.9.2\n",
      "jupyterlab-pygments==0.1.2\n",
      "jupyterlab-widgets==1.0.2\n",
      "kiwisolver==1.3.2\n",
      "MarkupSafe==2.1.0\n",
      "matplotlib==3.5.1\n",
      "matplotlib-inline==0.1.3\n",
      "mistune==0.8.4\n",
      "mypy-extensions==0.4.3\n",
      "nbclient==0.5.11\n",
      "nbconvert==6.4.2\n",
      "nbformat==5.1.3\n",
      "nest-asyncio==1.5.4\n",
      "notebook==6.4.8\n",
      "numpy==1.22.2\n",
      "packaging==21.3\n",
      "pandocfilters==1.5.0\n",
      "parso==0.8.3\n",
      "pathspec==0.9.0\n",
      "pickleshare==0.7.5\n",
      "Pillow==9.0.1\n",
      "platformdirs==2.5.1\n",
      "prometheus-client==0.13.1\n",
      "prompt-toolkit==3.0.28\n",
      "pure-eval==0.2.2\n",
      "pycparser==2.21\n",
      "Pygments==2.11.2\n",
      "pyparsing==3.0.7\n",
      "pyrsistent==0.18.1\n",
      "python-dateutil==2.8.2\n",
      "pywin32==303\n",
      "pywinpty==0.5.7\n",
      "pyzmq==22.3.0\n",
      "Send2Trash==1.8.0\n",
      "six==1.16.0\n",
      "stack-data==0.2.0\n",
      "terminado==0.9.5\n",
      "testpath==0.5.0\n",
      "tomli==2.0.1\n",
      "tornado==6.1\n",
      "traitlets==5.1.1\n",
      "typing-extensions==4.1.1\n",
      "wcwidth==0.2.5\n",
      "webencodings==0.5.1\n",
      "widgetsnbextension==3.5.2\n",
      "zipp==3.7.0\n",
      "Note: you may need to restart the kernel to use updated packages.\n"
     ]
    }
   ],
   "source": [
    "pip freeze\n"
   ]
  },
  {
   "cell_type": "markdown",
   "metadata": {},
   "source": [
    "##python-dateutil==2.8.2, pywin32==303, pywinpty==0.5.7, pyzmq==22.3.0, Send2Trash==1.8.0, six==1.16.0"
   ]
  }
 ],
 "metadata": {
  "interpreter": {
   "hash": "df0a458c3639403d991568692139548604efa98f7278b26e525dbc1fa1c1e309"
  },
  "kernelspec": {
   "display_name": "Python 3.8.10 32-bit",
   "language": "python",
   "name": "python3"
  },
  "language_info": {
   "codemirror_mode": {
    "name": "ipython",
    "version": 3
   },
   "file_extension": ".py",
   "mimetype": "text/x-python",
   "name": "python",
   "nbconvert_exporter": "python",
   "pygments_lexer": "ipython3",
   "version": "3.8.10"
  },
  "orig_nbformat": 4
 },
 "nbformat": 4,
 "nbformat_minor": 2
}
